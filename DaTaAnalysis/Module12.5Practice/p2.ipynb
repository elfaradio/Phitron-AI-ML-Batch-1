{
 "cells": [
  {
   "cell_type": "markdown",
   "id": "feee6d04",
   "metadata": {},
   "source": [
    "Using any DataFrame, write code to print the number of rows and columns, column data types (.dtypes), and summary statistics (.describe()).\n"
   ]
  },
  {
   "cell_type": "code",
   "execution_count": null,
   "id": "8bec3af3",
   "metadata": {},
   "outputs": [
    {
     "name": "stdout",
     "output_type": "stream",
     "text": [
      "(4, 3)\n"
     ]
    }
   ],
   "source": [
    "import pandas as pd\n",
    "\n",
    "d = {\n",
    "    \"Name\": [\"Farhad\", \"Maruf\", \"Nasif\", \"Ifte\"],\n",
    "    \"Age\": [21, 22, 22, 24],\n",
    "    \"City\": [\"Ctg\", \"Ctg\", \"Ctg\", \"Ctg\"]\n",
    "}\n",
    "\n",
    "df = pd.DataFrame(d)\n",
    "print(df.shape)\n",
    "print(df.dtypes)\n",
    "print(df.describe())"
   ]
  }
 ],
 "metadata": {
  "kernelspec": {
   "display_name": "venv",
   "language": "python",
   "name": "python3"
  },
  "language_info": {
   "codemirror_mode": {
    "name": "ipython",
    "version": 3
   },
   "file_extension": ".py",
   "mimetype": "text/x-python",
   "name": "python",
   "nbconvert_exporter": "python",
   "pygments_lexer": "ipython3",
   "version": "3.13.7"
  }
 },
 "nbformat": 4,
 "nbformat_minor": 5
}
