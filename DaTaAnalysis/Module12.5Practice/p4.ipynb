{
 "cells": [
  {
   "cell_type": "markdown",
   "id": "be1af7b8",
   "metadata": {},
   "source": [
    "Create a 4×3 DataFrame of student names and marks. Drop one column using .drop(), drop one row by index\n"
   ]
  },
  {
   "cell_type": "code",
   "execution_count": 1,
   "id": "5b2d6fa9",
   "metadata": {},
   "outputs": [],
   "source": [
    "import pandas as pd"
   ]
  },
  {
   "cell_type": "code",
   "execution_count": 5,
   "id": "876e078e",
   "metadata": {},
   "outputs": [
    {
     "name": "stdout",
     "output_type": "stream",
     "text": [
      "     Name  English\n",
      "0   Sayed       92\n",
      "1     Red       80\n",
      "2    Dean       75\n",
      "3  Duncun       85\n",
      "     Name  English\n",
      "1     Red       80\n",
      "2    Dean       75\n",
      "3  Duncun       85\n"
     ]
    }
   ],
   "source": [
    "data = {\n",
    "\n",
    "    'Name': ['Sayed', 'Red', 'Dean', 'Duncun'],\n",
    "    'Math': [85, 90, 78, 88],\n",
    "    'English': [92, 80, 75, 85]\n",
    "}\n",
    "df = pd.DataFrame(data)\n",
    "\n",
    "df.drop(['Math'], axis=1, inplace=True)\n",
    "print(df)\n",
    "df.drop(0, inplace=True)\n",
    "print(df)"
   ]
  }
 ],
 "metadata": {
  "kernelspec": {
   "display_name": "venv",
   "language": "python",
   "name": "python3"
  },
  "language_info": {
   "codemirror_mode": {
    "name": "ipython",
    "version": 3
   },
   "file_extension": ".py",
   "mimetype": "text/x-python",
   "name": "python",
   "nbconvert_exporter": "python",
   "pygments_lexer": "ipython3",
   "version": "3.13.7"
  }
 },
 "nbformat": 4,
 "nbformat_minor": 5
}
