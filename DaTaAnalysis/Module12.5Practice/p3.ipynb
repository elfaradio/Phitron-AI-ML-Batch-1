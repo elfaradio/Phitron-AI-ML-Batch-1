{
 "cells": [
  {
   "cell_type": "markdown",
   "id": "5d2c0ca7",
   "metadata": {},
   "source": [
    "Create a DataFrame using the dictionary below:\n",
    "\n",
    "\n",
    "data = {\n",
    "    'Product': ['Pen', 'Book', 'Eraser', 'Pencil'],\n",
    "    'Price': [10, 50, 5, 7],\n",
    "    'Quantity': [100, 60, 200, 150]\n",
    "}\n",
    "\n",
    "Print .columns, .index. Access a single column and one full row.\n"
   ]
  },
  {
   "cell_type": "code",
   "execution_count": null,
   "id": "72be7062",
   "metadata": {},
   "outputs": [],
   "source": [
    "import pandas as pd"
   ]
  },
  {
   "cell_type": "code",
   "execution_count": 18,
   "id": "283d5c48",
   "metadata": {},
   "outputs": [
    {
     "name": "stdout",
     "output_type": "stream",
     "text": [
      "  Product  Price  Quantity\n",
      "0     Pen     10       100\n",
      "1    Book     50        60\n",
      "2  Eraser      5       200\n",
      "3  Pencil      7       150\n",
      "RangeIndex(start=0, stop=4, step=1)\n",
      "Index(['Product', 'Price', 'Quantity'], dtype='object')\n",
      "0       Pen\n",
      "1      Book\n",
      "2    Eraser\n",
      "3    Pencil\n",
      "Name: Product, dtype: object\n",
      "Product     Eraser\n",
      "Price            5\n",
      "Quantity       200\n",
      "Name: 2, dtype: object\n",
      "Product     Eraser\n",
      "Price            5\n",
      "Quantity       200\n",
      "Name: 2, dtype: object\n",
      "['Eraser' np.int64(5) np.int64(200)]\n",
      "{'Product': 'Eraser', 'Price': 5, 'Quantity': 200}\n"
     ]
    }
   ],
   "source": [
    "data = {\n",
    "    'Product': ['Pen', 'Book', 'Eraser', 'Pencil'],\n",
    "    'Price': [10, 50, 5, 7],\n",
    "    'Quantity': [100, 60, 200, 150]\n",
    "}\n",
    "df = pd.DataFrame(data)\n",
    "print(df)\n",
    "print(df.index)\n",
    "print(df.columns)\n",
    "print(df['Product'])\n",
    "print(df.loc[2])\n",
    "print(df.iloc[2])\n",
    "x = df.loc[2]\n",
    "print(x.values)\n",
    "print(x.to_dict())"
   ]
  },
  {
   "cell_type": "markdown",
   "id": "e4c24123",
   "metadata": {},
   "source": [
    "Using .loc[] and .iloc[], show the first row, the second column, and a 2×2 block    from the middle of your DataFrame.\n"
   ]
  },
  {
   "cell_type": "code",
   "execution_count": null,
   "id": "ccf2f263",
   "metadata": {},
   "outputs": [
    {
     "name": "stdout",
     "output_type": "stream",
     "text": [
      "  Product  Price  Quantity\n",
      "0     Pen     10       100\n",
      "  Product  Price  Quantity\n",
      "0     Pen     10       100\n",
      "\n",
      "0    10\n",
      "1    50\n",
      "2     5\n",
      "3     7\n",
      "Name: Price, dtype: int64\n",
      "0    10\n",
      "1    50\n",
      "2     5\n",
      "3     7\n",
      "Name: Price, dtype: int64\n",
      "   Price  Quantity\n",
      "1     50        60\n",
      "2      5       200\n"
     ]
    }
   ],
   "source": [
    "print(df.loc[[0]])\n",
    "print(df.iloc[[0]])\n",
    "print()\n",
    "print(df.loc[0:3:, 'Price'])\n",
    "print(df.iloc[:, 1])\n",
    "\n",
    "print(df.loc[1:2, ['Price', 'Quantity']])\n",
    "print(df.iloc[1:3, 1:3])"
   ]
  }
 ],
 "metadata": {
  "kernelspec": {
   "display_name": "venv",
   "language": "python",
   "name": "python3"
  },
  "language_info": {
   "codemirror_mode": {
    "name": "ipython",
    "version": 3
   },
   "file_extension": ".py",
   "mimetype": "text/x-python",
   "name": "python",
   "nbconvert_exporter": "python",
   "pygments_lexer": "ipython3",
   "version": "3.13.7"
  }
 },
 "nbformat": 4,
 "nbformat_minor": 5
}
