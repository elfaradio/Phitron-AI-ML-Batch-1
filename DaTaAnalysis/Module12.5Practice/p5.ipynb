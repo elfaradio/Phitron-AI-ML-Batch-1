{
 "cells": [
  {
   "cell_type": "markdown",
   "id": "f754c794",
   "metadata": {},
   "source": [
    "Create a DataFrame of employees with columns \"Name\", \"Department\", and \"Salary\". Sort it by \"Salary\" in ascending order and by \"Name\" in descending order.\n"
   ]
  },
  {
   "cell_type": "code",
   "execution_count": 2,
   "id": "71a16868",
   "metadata": {},
   "outputs": [],
   "source": [
    "import pandas as pd"
   ]
  },
  {
   "cell_type": "code",
   "execution_count": 7,
   "id": "50ae187c",
   "metadata": {},
   "outputs": [
    {
     "name": "stdout",
     "output_type": "stream",
     "text": [
      "      Name Department  Salary\n",
      "0    Alice         HR   50000\n",
      "1      Bob         IT   60000\n",
      "2  Charlie    Finance   55000\n",
      "3    David         IT   60000\n",
      "4     Emma         HR   48000\n",
      "\n",
      "      Name Department  Salary\n",
      "4     Emma         HR   48000\n",
      "0    Alice         HR   50000\n",
      "2  Charlie    Finance   55000\n",
      "1      Bob         IT   60000\n",
      "3    David         IT   60000\n",
      "\n",
      "      Name Department  Salary\n",
      "4     Emma         HR   48000\n",
      "3    David         IT   60000\n",
      "2  Charlie    Finance   55000\n",
      "1      Bob         IT   60000\n",
      "0    Alice         HR   50000\n"
     ]
    }
   ],
   "source": [
    "data = {\n",
    "    'Name': ['Alice', 'Bob', 'Charlie', 'David', 'Emma'],\n",
    "    'Department': ['HR', 'IT', 'Finance', 'IT', 'HR'],\n",
    "    'Salary': [50000, 60000, 55000, 60000, 48000]\n",
    "}\n",
    "\n",
    "df = pd.DataFrame(data)\n",
    "print(df)\n",
    "df.sort_values(by='Salary', ascending=True, inplace=True)\n",
    "print()\n",
    "print(df)\n",
    "df.sort_values(by='Name', ascending=False, inplace=True)\n",
    "print()\n",
    "print(df)"
   ]
  }
 ],
 "metadata": {
  "kernelspec": {
   "display_name": "venv",
   "language": "python",
   "name": "python3"
  },
  "language_info": {
   "codemirror_mode": {
    "name": "ipython",
    "version": 3
   },
   "file_extension": ".py",
   "mimetype": "text/x-python",
   "name": "python",
   "nbconvert_exporter": "python",
   "pygments_lexer": "ipython3",
   "version": "3.13.7"
  }
 },
 "nbformat": 4,
 "nbformat_minor": 5
}
