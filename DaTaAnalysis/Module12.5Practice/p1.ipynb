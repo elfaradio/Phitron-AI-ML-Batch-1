{
 "cells": [
  {
   "cell_type": "markdown",
   "id": "6ebd3912",
   "metadata": {},
   "source": [
    "Create a Pandas Series from the list [10, 20, 30, 40, 50]. Print the Series, its index, and data type. Then create a DataFrame with columns \"Name\", \"Age\", and \"City\" containing at least 4 rows of data.\n",
    "\n",
    "\n",
    "\n",
    "\n"
   ]
  },
  {
   "cell_type": "code",
   "execution_count": 2,
   "id": "0645df9a",
   "metadata": {},
   "outputs": [
    {
     "name": "stdout",
     "output_type": "stream",
     "text": [
      "0    10\n",
      "1    20\n",
      "2    30\n",
      "3    40\n",
      "4    50\n",
      "dtype: int64\n",
      "RangeIndex(start=0, stop=5, step=1)\n",
      "int64\n",
      "     Name  Age City\n",
      "0  Farhad   21  Ctg\n",
      "1   Maruf   22  Ctg\n",
      "2   Nasif   22  Ctg\n",
      "3    Ifte   24  Ctg\n"
     ]
    }
   ],
   "source": [
    "import pandas as pd\n",
    "sr = pd.Series([10, 20, 30, 40, 50])\n",
    "print(sr)\n",
    "print(sr.index)\n",
    "print(sr.dtype)\n",
    "\n",
    "d = {\n",
    "    \"Name\": [\"Farhad\", \"Maruf\", \"Nasif\", \"Ifte\"],\n",
    "    \"Age\": [21, 22, 22, 24],\n",
    "    \"City\": [\"Ctg\", \"Ctg\", \"Ctg\", \"Ctg\"]\n",
    "}\n",
    "\n",
    "df = pd.DataFrame(d)\n",
    "print(df)"
   ]
  }
 ],
 "metadata": {
  "kernelspec": {
   "display_name": "venv",
   "language": "python",
   "name": "python3"
  },
  "language_info": {
   "codemirror_mode": {
    "name": "ipython",
    "version": 3
   },
   "file_extension": ".py",
   "mimetype": "text/x-python",
   "name": "python",
   "nbconvert_exporter": "python",
   "pygments_lexer": "ipython3",
   "version": "3.13.7"
  }
 },
 "nbformat": 4,
 "nbformat_minor": 5
}
