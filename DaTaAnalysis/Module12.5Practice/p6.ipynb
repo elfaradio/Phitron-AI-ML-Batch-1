{
 "cells": [
  {
   "cell_type": "markdown",
   "id": "91536d9c",
   "metadata": {},
   "source": [
    "Create a DataFrame of 8 students with columns \"Name\" and \"Score\". Filter and print students with Score > 60 and those with Score < 40.\n"
   ]
  },
  {
   "cell_type": "code",
   "execution_count": 1,
   "id": "34dcd3f3",
   "metadata": {},
   "outputs": [],
   "source": [
    "import pandas as pd"
   ]
  },
  {
   "cell_type": "code",
   "execution_count": null,
   "id": "79ec05c9",
   "metadata": {},
   "outputs": [
    {
     "name": "stdout",
     "output_type": "stream",
     "text": [
      "      Name  Score\n",
      "0    Alice     85\n",
      "1      Bob     35\n",
      "2  Charlie     72\n",
      "3    David     60\n",
      "4     Emma     90\n",
      "5    Frank     25\n",
      "6    Grace     45\n",
      "7   Hannah     38\n",
      "\n",
      "      Name  Score\n",
      "0    Alice     85\n",
      "2  Charlie     72\n",
      "4     Emma     90\n",
      "\n"
     ]
    }
   ],
   "source": [
    "data = {\n",
    "    'Name': ['Alice', 'Bob', 'Charlie', 'David', 'Emma', 'Frank', 'Grace', 'Hannah'],\n",
    "    'Score': [85, 35, 72, 60, 90, 25, 45, 38]\n",
    "}\n",
    "\n",
    "df = pd.DataFrame(data)\n",
    "print(df)\n",
    "print()\n",
    "ans = df[df['Score'] > 60]\n",
    "print(ans)\n",
    "print()\n",
    "ans = df[df['Score'] > 60]\n",
    "print(ans)\n",
    "print()"
   ]
  }
 ],
 "metadata": {
  "kernelspec": {
   "display_name": "venv",
   "language": "python",
   "name": "python3"
  },
  "language_info": {
   "codemirror_mode": {
    "name": "ipython",
    "version": 3
   },
   "file_extension": ".py",
   "mimetype": "text/x-python",
   "name": "python",
   "nbconvert_exporter": "python",
   "pygments_lexer": "ipython3",
   "version": "3.13.7"
  }
 },
 "nbformat": 4,
 "nbformat_minor": 5
}
