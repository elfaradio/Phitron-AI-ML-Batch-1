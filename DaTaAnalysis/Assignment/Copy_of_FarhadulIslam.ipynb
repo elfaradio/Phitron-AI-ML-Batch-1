{
  "nbformat": 4,
  "nbformat_minor": 0,
  "metadata": {
    "colab": {
      "provenance": []
    },
    "kernelspec": {
      "name": "python3",
      "display_name": "Python 3"
    },
    "language_info": {
      "name": "python"
    }
  },
  "cells": [
    {
      "cell_type": "code",
      "source": [
        "# You must run this code and use that data set for all the questions\n",
        "import numpy as np\n",
        "import pandas as pd\n",
        "\n",
        "np.random.seed(42)\n",
        "\n",
        "ids = np.arange(1, 11)\n",
        "ages = np.random.randint(18, 60, 10)\n",
        "salaries = np.random.randint(30000, 90000, 10)\n",
        "departments = np.array([\"HR\", \"IT\", \"Finance\", \"IT\", \"HR\", \"Sales\", \"Finance\", \"IT\", \"Sales\", \"HR\"])\n",
        "\n",
        "DF = pd.DataFrame({\n",
        "\"id\": ids,\n",
        "\"age\": ages,\n",
        "\"salary\": salaries,\n",
        "\"dept\": departments\n",
        "})\n",
        "\n",
        "DF.to_csv(\"employees.csv\", index=False)\n",
        "print(\"Sample Data Created and Saved as employees.csv\")\n"
      ],
      "metadata": {
        "colab": {
          "base_uri": "https://localhost:8080/"
        },
        "id": "V-lTLwuVgjwZ",
        "outputId": "314f03a6-6334-4768-8add-8c563324e296"
      },
      "execution_count": null,
      "outputs": [
        {
          "output_type": "stream",
          "name": "stdout",
          "text": [
            "Sample Data Created and Saved as employees.csv\n"
          ]
        }
      ]
    },
    {
      "cell_type": "markdown",
      "source": [
        "Ans to the Q1"
      ],
      "metadata": {
        "id": "i21CwGSjgzWP"
      }
    },
    {
      "cell_type": "code",
      "source": [
        "a1=np.array(ages)\n",
        "a2=np.array(salaries)\n",
        "print(a1)\n",
        "print(a2)\n",
        "print(a1.dtype)\n",
        "print(a2.dtype)\n",
        "print(a1.ndim)\n",
        "print(a2.ndim)\n",
        "print(a1.shape)\n",
        "print(a2.shape)\n",
        "print(a1.size)\n",
        "print(a2.size)\n",
        "\n"
      ],
      "metadata": {
        "colab": {
          "base_uri": "https://localhost:8080/"
        },
        "id": "AYd0dRTAg4S4",
        "outputId": "fe38bf91-fcd9-4452-be20-4c583d568ea4"
      },
      "execution_count": null,
      "outputs": [
        {
          "output_type": "stream",
          "name": "stdout",
          "text": [
            "[56 46 32 25 38 56 36 40 28 28]\n",
            "[77191 74131 46023 71090 31685 30769 89735 86101 32433 35311]\n",
            "int64\n",
            "int64\n",
            "1\n",
            "1\n",
            "(10,)\n",
            "(10,)\n",
            "10\n",
            "10\n"
          ]
        }
      ]
    },
    {
      "cell_type": "markdown",
      "source": [
        "Ans to the Q2:"
      ],
      "metadata": {
        "id": "w-bbuVO2hpcD"
      }
    },
    {
      "cell_type": "code",
      "source": [
        "x=np.max(a2)\n",
        "print(x)\n",
        "y=np.min(a2)\n",
        "print(y)\n",
        "\n",
        "aa2=np.mean(a2)\n",
        "print(aa2)\n",
        "aa1=np.mean(a1)\n",
        "print(aa1)"
      ],
      "metadata": {
        "colab": {
          "base_uri": "https://localhost:8080/"
        },
        "id": "RINW7gdehsjs",
        "outputId": "b0e2131f-a881-4cf4-b1c6-eb7b1c0ea538"
      },
      "execution_count": null,
      "outputs": [
        {
          "output_type": "stream",
          "name": "stdout",
          "text": [
            "89735\n",
            "30769\n",
            "57446.9\n",
            "38.5\n"
          ]
        }
      ]
    },
    {
      "cell_type": "markdown",
      "source": [
        "Ans to the Q(3)"
      ],
      "metadata": {
        "id": "gXKvVSs8i2Fz"
      }
    },
    {
      "cell_type": "code",
      "source": [
        "v=a1[a1>30]\n",
        "print(v)\n",
        "print(v.size)"
      ],
      "metadata": {
        "colab": {
          "base_uri": "https://localhost:8080/"
        },
        "id": "zU1stlIqi69c",
        "outputId": "9bc24073-e26e-4408-9834-be9acf19115c"
      },
      "execution_count": null,
      "outputs": [
        {
          "output_type": "stream",
          "name": "stdout",
          "text": [
            "[56 46 32 38 56 36 40]\n",
            "7\n"
          ]
        }
      ]
    },
    {
      "cell_type": "markdown",
      "source": [
        "Ans to the Q(4)"
      ],
      "metadata": {
        "id": "L_gFkzcijwJJ"
      }
    },
    {
      "cell_type": "code",
      "source": [
        "ans=np.array(a1+5) # ans=a1+5\n",
        "# print(a1)\n",
        "print(ans)"
      ],
      "metadata": {
        "colab": {
          "base_uri": "https://localhost:8080/"
        },
        "id": "ZSUolv2BjyuM",
        "outputId": "687e20ce-15a8-4490-a79d-34772b500498"
      },
      "execution_count": null,
      "outputs": [
        {
          "output_type": "stream",
          "name": "stdout",
          "text": [
            "[61 51 37 30 43 61 41 45 33 33]\n"
          ]
        }
      ]
    },
    {
      "cell_type": "markdown",
      "source": [
        "Ans to the Q(5)"
      ],
      "metadata": {
        "id": "2IeC5JXOlJzC"
      }
    },
    {
      "cell_type": "code",
      "source": [
        "ex=np.sum(a2)\n",
        "\n",
        "print(ex)\n",
        "print(np.max(a2)-np.min(a2)) # x-y\n"
      ],
      "metadata": {
        "colab": {
          "base_uri": "https://localhost:8080/"
        },
        "id": "tgcxmLZQlM3l",
        "outputId": "8f067f66-4e0a-46f5-95b9-c30f61b3cc60"
      },
      "execution_count": null,
      "outputs": [
        {
          "output_type": "stream",
          "name": "stdout",
          "text": [
            "574469\n",
            "58966\n"
          ]
        }
      ]
    },
    {
      "cell_type": "markdown",
      "source": [
        "ANs to the Q(6)"
      ],
      "metadata": {
        "id": "q6vStf3M20Jc"
      }
    },
    {
      "cell_type": "code",
      "source": [
        "f=pd.read_csv('employees.csv')\n",
        "df=pd.DataFrame(f)\n",
        "print(df.head(5))\n",
        "print()\n",
        "print(df.info())\n",
        "print()\n",
        "print(df.describe())"
      ],
      "metadata": {
        "colab": {
          "base_uri": "https://localhost:8080/"
        },
        "id": "mF8RrprU22zK",
        "outputId": "2e9a3b8e-b456-4493-a26b-405bf42d1b02"
      },
      "execution_count": null,
      "outputs": [
        {
          "output_type": "stream",
          "name": "stdout",
          "text": [
            "   id  age  salary     dept\n",
            "0   1   56   77191       HR\n",
            "1   2   46   74131       IT\n",
            "2   3   32   46023  Finance\n",
            "3   4   25   71090       IT\n",
            "4   5   38   31685       HR\n",
            "\n",
            "<class 'pandas.core.frame.DataFrame'>\n",
            "RangeIndex: 10 entries, 0 to 9\n",
            "Data columns (total 4 columns):\n",
            " #   Column  Non-Null Count  Dtype \n",
            "---  ------  --------------  ----- \n",
            " 0   id      10 non-null     int64 \n",
            " 1   age     10 non-null     int64 \n",
            " 2   salary  10 non-null     int64 \n",
            " 3   dept    10 non-null     object\n",
            "dtypes: int64(3), object(1)\n",
            "memory usage: 452.0+ bytes\n",
            "None\n",
            "\n",
            "             id       age        salary\n",
            "count  10.00000  10.00000     10.000000\n",
            "mean    5.50000  38.50000  57446.900000\n",
            "std     3.02765  11.16791  24357.262884\n",
            "min     1.00000  25.00000  30769.000000\n",
            "25%     3.25000  29.00000  33152.500000\n",
            "50%     5.50000  37.00000  58556.500000\n",
            "75%     7.75000  44.50000  76426.000000\n",
            "max    10.00000  56.00000  89735.000000\n"
          ]
        }
      ]
    },
    {
      "cell_type": "markdown",
      "source": [
        "Ans to the Q(7)\n"
      ],
      "metadata": {
        "id": "UmrD5O0d3yl4"
      }
    },
    {
      "cell_type": "code",
      "source": [
        "x=df[['id','age','salary']]\n",
        "print(x)\n",
        "print()\n",
        "print(x.tail(3))\n"
      ],
      "metadata": {
        "colab": {
          "base_uri": "https://localhost:8080/"
        },
        "id": "svwEQ0EN31Va",
        "outputId": "548afd2c-f07b-4444-ac09-31f99eb7fb9c"
      },
      "execution_count": null,
      "outputs": [
        {
          "output_type": "stream",
          "name": "stdout",
          "text": [
            "   id  age  salary\n",
            "0   1   56   77191\n",
            "1   2   46   74131\n",
            "2   3   32   46023\n",
            "3   4   25   71090\n",
            "4   5   38   31685\n",
            "5   6   56   30769\n",
            "6   7   36   89735\n",
            "7   8   40   86101\n",
            "8   9   28   32433\n",
            "9  10   28   35311\n",
            "\n",
            "   id  age  salary\n",
            "7   8   40   86101\n",
            "8   9   28   32433\n",
            "9  10   28   35311\n"
          ]
        }
      ]
    },
    {
      "cell_type": "markdown",
      "source": [
        "Ans to the Q(8)"
      ],
      "metadata": {
        "id": "JEasqy2s4yUR"
      }
    },
    {
      "cell_type": "code",
      "source": [
        "y=df[df['dept']=='IT']\n",
        "print(y)\n",
        "print()\n",
        "print(y.shape[0])"
      ],
      "metadata": {
        "colab": {
          "base_uri": "https://localhost:8080/"
        },
        "id": "J7hgRpfH41l0",
        "outputId": "5d69ce22-7f17-441c-90d8-72160750c1b3"
      },
      "execution_count": null,
      "outputs": [
        {
          "output_type": "stream",
          "name": "stdout",
          "text": [
            "   id  age  salary dept\n",
            "1   2   46   74131   IT\n",
            "3   4   25   71090   IT\n",
            "7   8   40   86101   IT\n",
            "\n",
            "3\n"
          ]
        }
      ]
    },
    {
      "cell_type": "markdown",
      "source": [
        "Ans to the Q(9)"
      ],
      "metadata": {
        "id": "dyh2E33S5W1_"
      }
    },
    {
      "cell_type": "code",
      "source": [
        "ans2=df.sort_values(['salary'],ascending=False)\n",
        "print(ans2[['age','dept']].head(3))"
      ],
      "metadata": {
        "colab": {
          "base_uri": "https://localhost:8080/"
        },
        "id": "EtarRt935Zg6",
        "outputId": "6c60b3e7-9f90-4036-fb0a-f4b65a276978"
      },
      "execution_count": null,
      "outputs": [
        {
          "output_type": "stream",
          "name": "stdout",
          "text": [
            "   age     dept\n",
            "6   36  Finance\n",
            "7   40       IT\n",
            "0   56       HR\n",
            "\n",
            "   id  age  salary     dept\n",
            "0   1   56   77191       HR\n",
            "1   2   46   74131       IT\n",
            "2   3   32   46023  Finance\n",
            "3   4   25   71090       IT\n",
            "4   5   38   31685       HR\n",
            "5   6   56   30769    Sales\n",
            "6   7   36   80000  Finance\n",
            "7   8   40   80000       IT\n",
            "8   9   28   32433    Sales\n",
            "9  10   28   35311       HR\n"
          ]
        }
      ]
    },
    {
      "cell_type": "markdown",
      "source": [
        "Ans to the Q(10)"
      ],
      "metadata": {
        "id": "3MrGaut-7BHm"
      }
    },
    {
      "cell_type": "code",
      "source": [
        "\n",
        "df.loc[df['salary']>80000,'salary']=80000 # ekhane direct df ke replace korte hobe naki copy ke eita bole dewa ucit cilo...bcz eta direct df ke change kori fele\n",
        "\n",
        "print(df)\n",
        "print()\n",
        "print(df['salary'].mean())"
      ],
      "metadata": {
        "colab": {
          "base_uri": "https://localhost:8080/"
        },
        "id": "MgexhDB5-UMu",
        "outputId": "108ec28d-bdfd-4b74-e7e9-9ecf546a460b"
      },
      "execution_count": null,
      "outputs": [
        {
          "output_type": "stream",
          "name": "stdout",
          "text": [
            "   id  age  salary     dept\n",
            "0   1   56   77191       HR\n",
            "1   2   46   74131       IT\n",
            "2   3   32   46023  Finance\n",
            "3   4   25   71090       IT\n",
            "4   5   38   31685       HR\n",
            "5   6   56   30769    Sales\n",
            "6   7   36   80000  Finance\n",
            "7   8   40   80000       IT\n",
            "8   9   28   32433    Sales\n",
            "9  10   28   35311       HR\n",
            "\n",
            "55863.3\n"
          ]
        }
      ]
    }
  ]
}