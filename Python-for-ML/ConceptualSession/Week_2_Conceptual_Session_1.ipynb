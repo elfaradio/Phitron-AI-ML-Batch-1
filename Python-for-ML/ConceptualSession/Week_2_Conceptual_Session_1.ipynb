{
  "nbformat": 4,
  "nbformat_minor": 0,
  "metadata": {
    "colab": {
      "provenance": []
    },
    "kernelspec": {
      "name": "python3",
      "display_name": "Python 3"
    },
    "language_info": {
      "name": "python"
    }
  },
  "cells": [
    {
      "cell_type": "markdown",
      "source": [
        "# **Function**"
      ],
      "metadata": {
        "id": "5KFbw60B6euQ"
      }
    },
    {
      "cell_type": "code",
      "source": [
        "def greeting():\n",
        "  print(\"Welcome to this conceptual session - 1 \")\n",
        "\n",
        "greeting()"
      ],
      "metadata": {
        "colab": {
          "base_uri": "https://localhost:8080/"
        },
        "id": "5ZSPYhun7dmZ",
        "outputId": "4fde9ffb-e461-4e51-b7b1-ae409fd105dc"
      },
      "execution_count": null,
      "outputs": [
        {
          "output_type": "stream",
          "name": "stdout",
          "text": [
            "Welcome to this conceptual session - 1 \n"
          ]
        }
      ]
    },
    {
      "cell_type": "code",
      "source": [
        "# Positional Parameters\n",
        "def greeting(name2, name1):\n",
        "  print(\"Welcome to this conceptual session - 1 \", name1)\n",
        "\n",
        "greeting(\"Rakib\", \"Yasin\") #"
      ],
      "metadata": {
        "colab": {
          "base_uri": "https://localhost:8080/"
        },
        "id": "DPwhCoB171fo",
        "outputId": "41dad57b-f2ed-4919-9330-9c0ae96bc17a"
      },
      "execution_count": null,
      "outputs": [
        {
          "output_type": "stream",
          "name": "stdout",
          "text": [
            "Welcome to this conceptual session - 1  Yasin\n"
          ]
        }
      ]
    },
    {
      "cell_type": "code",
      "source": [
        "# Keyword Parameters\n",
        "def info(name, age, country=\"Bangladeshi\"):\n",
        "    print(f\"{name} age is: {age} and {country}\")\n",
        "\n",
        "info(age=20, name=\"Rakib\")"
      ],
      "metadata": {
        "colab": {
          "base_uri": "https://localhost:8080/"
        },
        "id": "0LcJSKOl8a-5",
        "outputId": "ac69b004-c6dd-4e13-a229-14d4a27cef57"
      },
      "execution_count": null,
      "outputs": [
        {
          "output_type": "stream",
          "name": "stdout",
          "text": [
            "Rakib age is: 20 and Bangladeshi\n"
          ]
        }
      ]
    },
    {
      "cell_type": "code",
      "source": [
        "def add(*a):\n",
        "  print(type(a))\n",
        "  print(a)\n",
        "\n",
        "add(1, 2, 3, 4, 5, 6, 7, 8)"
      ],
      "metadata": {
        "colab": {
          "base_uri": "https://localhost:8080/"
        },
        "id": "NZ6jo_8r9ETS",
        "outputId": "7d64afcc-4e87-49b1-acd3-a41690b054f9"
      },
      "execution_count": null,
      "outputs": [
        {
          "output_type": "stream",
          "name": "stdout",
          "text": [
            "<class 'tuple'>\n",
            "(1, 2, 3, 4, 5, 6, 7, 8)\n"
          ]
        }
      ]
    },
    {
      "cell_type": "code",
      "source": [
        "def info(**k):\n",
        "    print(type(k))\n",
        "    print(f\"{k['name']} age is: {k['age']} and {k['country']}\")\n",
        "\n",
        "info(age=20, name=\"Rakib\", country=\"bd\", phone=\"01821\", )"
      ],
      "metadata": {
        "colab": {
          "base_uri": "https://localhost:8080/"
        },
        "id": "MKYsDd0f9l_H",
        "outputId": "e1f42150-6296-492b-ab0a-bc5bd81573f3"
      },
      "execution_count": null,
      "outputs": [
        {
          "output_type": "stream",
          "name": "stdout",
          "text": [
            "<class 'dict'>\n",
            "Rakib age is: 20 and bd\n"
          ]
        }
      ]
    },
    {
      "cell_type": "code",
      "source": [
        "def func()->float:\n",
        "  return 10\n",
        "\n",
        "print(func())"
      ],
      "metadata": {
        "colab": {
          "base_uri": "https://localhost:8080/"
        },
        "id": "OXxIt6io-R_u",
        "outputId": "0bd7c6e3-1593-45f0-c566-8c3afa9ccf93"
      },
      "execution_count": null,
      "outputs": [
        {
          "output_type": "stream",
          "name": "stdout",
          "text": [
            "10\n"
          ]
        }
      ]
    },
    {
      "cell_type": "code",
      "source": [
        "# Dictionary Return\n",
        "def get_student():\n",
        "    student = {\n",
        "        \"name\": \"Rakib\",\n",
        "        \"age\": 21,\n",
        "        \"city\": \"Dhaka\"\n",
        "    }\n",
        "    return student\n",
        "\n",
        "info = get_student()\n",
        "print(info['name'])"
      ],
      "metadata": {
        "colab": {
          "base_uri": "https://localhost:8080/"
        },
        "id": "pDsP0xQV-15L",
        "outputId": "fb1e3856-a332-4ba7-be3c-d7535f476d09"
      },
      "execution_count": null,
      "outputs": [
        {
          "output_type": "stream",
          "name": "stdout",
          "text": [
            "Rakib\n"
          ]
        }
      ]
    },
    {
      "cell_type": "code",
      "source": [
        "def get_student():\n",
        "    student1 = {\n",
        "        \"name\": \"Rakib\",\n",
        "        \"age\": 21,\n",
        "        \"city\": \"Dhaka\"\n",
        "    }\n",
        "    student2 = {\n",
        "        \"name\": \"Rakib2\",\n",
        "        \"age\": 21,\n",
        "        \"city\": \"Dhaka2\"\n",
        "    }\n",
        "    return (student1,student2)\n",
        "\n",
        "x, y = get_student()\n",
        "l = list(get_student())\n",
        "print(l)"
      ],
      "metadata": {
        "colab": {
          "base_uri": "https://localhost:8080/"
        },
        "id": "KwEW6qY6_LkG",
        "outputId": "0a4841d4-bfa3-49c1-c8fa-fbe2360e7d30"
      },
      "execution_count": null,
      "outputs": [
        {
          "output_type": "stream",
          "name": "stdout",
          "text": [
            "[{'name': 'Rakib', 'age': 21, 'city': 'Dhaka'}, {'name': 'Rakib2', 'age': 21, 'city': 'Dhaka2'}]\n"
          ]
        }
      ]
    },
    {
      "cell_type": "markdown",
      "source": [
        "# **Iterator**"
      ],
      "metadata": {
        "id": "3xqfdhiv6fyI"
      }
    },
    {
      "cell_type": "code",
      "source": [
        "arr = [10, 20, 30, 40]\n",
        "\n",
        "itr = iter(arr) # 0\n",
        "print(next(itr)) #\n",
        "print(next(itr))\n",
        "print(next(itr))\n",
        "print(next(itr))\n"
      ],
      "metadata": {
        "colab": {
          "base_uri": "https://localhost:8080/"
        },
        "id": "hpGsBLRT_xRw",
        "outputId": "e4d592dd-c35b-49de-cca7-5ec3b90fd8ce"
      },
      "execution_count": null,
      "outputs": [
        {
          "output_type": "stream",
          "name": "stdout",
          "text": [
            "10\n",
            "20\n",
            "30\n",
            "40\n"
          ]
        }
      ]
    },
    {
      "cell_type": "code",
      "source": [
        "student = {'name': 'Alice', 'age': 20, 'city': 'Dhaka'}\n",
        "\n",
        "\n",
        "itr = iter(student.keys())\n",
        "print(next(itr))\n",
        "print(next(itr))\n",
        "\n",
        "for a in student.keys():\n",
        "  print(a)"
      ],
      "metadata": {
        "colab": {
          "base_uri": "https://localhost:8080/"
        },
        "id": "Qx4OTwKjBBwg",
        "outputId": "bc43e97e-4399-40e2-c8ca-5142cb760f8c"
      },
      "execution_count": null,
      "outputs": [
        {
          "output_type": "stream",
          "name": "stdout",
          "text": [
            "name\n",
            "age\n",
            "name\n",
            "age\n",
            "city\n"
          ]
        }
      ]
    },
    {
      "cell_type": "markdown",
      "source": [
        "# **Generator**"
      ],
      "metadata": {
        "id": "DCNg0Ew-6ikg"
      }
    },
    {
      "cell_type": "code",
      "source": [
        "def fun():\n",
        "  for i in range(5):\n",
        "    print(\"Kaj shuru holo \", i)\n",
        "    yield i\n",
        "\n",
        "\n",
        "ltr = fun()\n",
        "print(next(ltr))\n",
        "# #sdfsdf\n",
        "# #sdfsdf\n",
        "print(\"hello \")\n",
        "print(next(ltr))\n"
      ],
      "metadata": {
        "colab": {
          "base_uri": "https://localhost:8080/"
        },
        "id": "qUez58C4Bne1",
        "outputId": "98216181-864b-4b8a-9823-0d742f3671fd"
      },
      "execution_count": null,
      "outputs": [
        {
          "output_type": "stream",
          "name": "stdout",
          "text": [
            "Kaj shuru holo  0\n",
            "0\n",
            "hello \n",
            "Kaj shuru holo  1\n",
            "1\n"
          ]
        }
      ]
    },
    {
      "cell_type": "markdown",
      "source": [
        "# **List Comprehension**"
      ],
      "metadata": {
        "id": "FZCrFZF46kzp"
      }
    },
    {
      "cell_type": "code",
      "source": [
        "numbers = [1, 2, 3, 4, 5]\n",
        "squared = []\n",
        "\n",
        "for num in numbers:\n",
        "    squared.append(num * num)\n",
        "\n",
        "print(squared)"
      ],
      "metadata": {
        "colab": {
          "base_uri": "https://localhost:8080/"
        },
        "id": "SdlrisMsD2U8",
        "outputId": "f5fedd95-a16b-4d5b-ca44-f7e43f6e4981"
      },
      "execution_count": null,
      "outputs": [
        {
          "output_type": "stream",
          "name": "stdout",
          "text": [
            "[1, 4, 9, 16, 25]\n"
          ]
        }
      ]
    },
    {
      "cell_type": "code",
      "source": [
        "numbers = [1, 2, 3, 4, 5]\n",
        "\n",
        "squared = [n for n in numbers]\n",
        "\n",
        "print(squared)"
      ],
      "metadata": {
        "colab": {
          "base_uri": "https://localhost:8080/"
        },
        "id": "PAslkYWDEBby",
        "outputId": "3e33ff0e-47d7-4534-d0bd-dc2b2b4bcbdb"
      },
      "execution_count": null,
      "outputs": [
        {
          "output_type": "stream",
          "name": "stdout",
          "text": [
            "[1, 2, 3, 4, 5]\n"
          ]
        }
      ]
    },
    {
      "cell_type": "code",
      "source": [
        "numbers = [1, 2, 3, 4, 5]\n",
        "\n",
        "squared = [n for n in numbers if n%2==1]\n",
        "\n",
        "print(squared)"
      ],
      "metadata": {
        "colab": {
          "base_uri": "https://localhost:8080/"
        },
        "id": "sluDsUtvEp9z",
        "outputId": "43b51dd5-fb7c-4f90-fba4-0775d4e112fd"
      },
      "execution_count": null,
      "outputs": [
        {
          "output_type": "stream",
          "name": "stdout",
          "text": [
            "[1, 3, 5]\n"
          ]
        }
      ]
    },
    {
      "cell_type": "code",
      "source": [
        "numbers = [1, 2, 3, 4, 5, 6, 7, 8, 9, 10]\n",
        "\n",
        "squared = [n*n if(n*n >30) else 0 for n in numbers if n%2==1]\n",
        "\n",
        "print(squared)"
      ],
      "metadata": {
        "colab": {
          "base_uri": "https://localhost:8080/"
        },
        "id": "MJ113q4AE6YB",
        "outputId": "50f2f623-b6db-485c-e219-66d103560a2a"
      },
      "execution_count": null,
      "outputs": [
        {
          "output_type": "stream",
          "name": "stdout",
          "text": [
            "[0, 0, 0, 49, 81]\n"
          ]
        }
      ]
    },
    {
      "cell_type": "code",
      "source": [
        "scores = [85, 42, 76, 91, 35]\n",
        "grades = [f'Pass {s}' if s >= 50 else f'Fail {s}' for s in scores]\n",
        "print(grades)"
      ],
      "metadata": {
        "colab": {
          "base_uri": "https://localhost:8080/"
        },
        "id": "Nimxpma5Fk1w",
        "outputId": "6c2c0b55-ba21-4309-bdd9-32bf46ef39cf"
      },
      "execution_count": null,
      "outputs": [
        {
          "output_type": "stream",
          "name": "stdout",
          "text": [
            "['Pass 85', 'Fail 42', 'Pass 76', 'Pass 91', 'Fail 35']\n"
          ]
        }
      ]
    },
    {
      "cell_type": "code",
      "source": [
        "matrix = [[1, 2, 3], [4, 5, 6], [7, 8, 9]]\n",
        "f = [j for i in matrix for j in i]\n",
        "\n",
        "print(f)"
      ],
      "metadata": {
        "colab": {
          "base_uri": "https://localhost:8080/"
        },
        "id": "z0hTxY4uF-sQ",
        "outputId": "fa1376cf-524b-479b-d224-844e3a418c26"
      },
      "execution_count": null,
      "outputs": [
        {
          "output_type": "stream",
          "name": "stdout",
          "text": [
            "[1, 2, 3, 4, 5, 6, 7, 8, 9]\n"
          ]
        }
      ]
    },
    {
      "cell_type": "code",
      "source": [
        "students = [\n",
        "    {'name': 'Alice', 'age': 20},\n",
        "    {'name': 'Bob', 'age': 22},\n",
        "    {'name': 'Charlie', 'age': 19}\n",
        "]\n",
        "\n",
        "names = [s['name'] for s in students]\n",
        "print(names)"
      ],
      "metadata": {
        "colab": {
          "base_uri": "https://localhost:8080/"
        },
        "id": "qWkNHex_G80q",
        "outputId": "b94c5fa6-def2-48b6-c143-d467526c3746"
      },
      "execution_count": null,
      "outputs": [
        {
          "output_type": "stream",
          "name": "stdout",
          "text": [
            "['Alice', 'Bob', 'Charlie']\n"
          ]
        }
      ]
    },
    {
      "cell_type": "code",
      "source": [
        "# CSV data cleaning\n",
        "raw_data = [' 25 ', '30 ', ' 42', 'abc', '50']\n",
        "\n",
        "clean = [int(r.strip()) for r in raw_data if r.strip().isdigit()]\n",
        "\n",
        "print(clean)\n",
        "# [25, 30, 42, 50]"
      ],
      "metadata": {
        "colab": {
          "base_uri": "https://localhost:8080/"
        },
        "id": "oSZb1mnAHMCU",
        "outputId": "0e27671e-bb8f-4671-813d-9d2dc5ce22fc"
      },
      "execution_count": null,
      "outputs": [
        {
          "output_type": "stream",
          "name": "stdout",
          "text": [
            "[25, 30, 42, 50]\n"
          ]
        }
      ]
    },
    {
      "cell_type": "code",
      "source": [
        "d = [ [[1, 3], [4, 5]], [[6, 7], [8,9]]]\n",
        "\n",
        "a = [k  for i in d for j in i for k in j]\n",
        "print(a)\n",
        "\n",
        "# for i in d:\n",
        "#   for j in i:\n",
        "#     for k in j:\n",
        "#       print(k)\n"
      ],
      "metadata": {
        "colab": {
          "base_uri": "https://localhost:8080/"
        },
        "id": "sUYqKvmhIMtw",
        "outputId": "baf505e0-da8b-4eb4-fd6d-99711a9f2d86"
      },
      "execution_count": null,
      "outputs": [
        {
          "output_type": "stream",
          "name": "stdout",
          "text": [
            "[1, 3, 4, 5, 6, 7, 8, 9]\n"
          ]
        }
      ]
    },
    {
      "cell_type": "markdown",
      "source": [
        "# **lambda , map , filter , reduce function**\n"
      ],
      "metadata": {
        "id": "abEPOmyj6m3I"
      }
    },
    {
      "cell_type": "markdown",
      "source": [
        "## lambda"
      ],
      "metadata": {
        "id": "U6Ph8yr_Ip3o"
      }
    },
    {
      "cell_type": "code",
      "source": [
        "def greet():\n",
        "  print('Hello World')\n",
        "greet()"
      ],
      "metadata": {
        "colab": {
          "base_uri": "https://localhost:8080/"
        },
        "id": "1m6I9XkeI0MY",
        "outputId": "87ab0e33-6b45-4d59-9822-7ba76b4224a8"
      },
      "execution_count": null,
      "outputs": [
        {
          "output_type": "stream",
          "name": "stdout",
          "text": [
            "Hello World\n"
          ]
        }
      ]
    },
    {
      "cell_type": "code",
      "source": [
        "greet = lambda : print('Hello World')\n",
        "greet()"
      ],
      "metadata": {
        "colab": {
          "base_uri": "https://localhost:8080/"
        },
        "id": "9MUaFdVAIpBp",
        "outputId": "d9356046-87e0-4dff-d612-bfa2db8445d0"
      },
      "execution_count": null,
      "outputs": [
        {
          "output_type": "stream",
          "name": "stdout",
          "text": [
            "Hello World\n"
          ]
        }
      ]
    },
    {
      "cell_type": "code",
      "source": [
        "greet = lambda name: print('Hello World' ,name)\n",
        "\n",
        "greet(\"Rakib\")"
      ],
      "metadata": {
        "colab": {
          "base_uri": "https://localhost:8080/"
        },
        "id": "mBbvptKPJAXw",
        "outputId": "2e0356fc-f5d8-4ca7-ac0d-c2a192c4a850"
      },
      "execution_count": null,
      "outputs": [
        {
          "output_type": "stream",
          "name": "stdout",
          "text": [
            "Hello World Rakib\n"
          ]
        }
      ]
    },
    {
      "cell_type": "markdown",
      "source": [
        "# Map"
      ],
      "metadata": {
        "id": "2jJWaDq4JaPQ"
      }
    },
    {
      "cell_type": "markdown",
      "source": [
        "map(function, iterable, ...)"
      ],
      "metadata": {
        "id": "iQMX6dP6Jkyv"
      }
    },
    {
      "cell_type": "code",
      "source": [
        "arr = [1, 2, 3, 4, 5]\n",
        "\n",
        "arr2 = list((map(lambda x: x*x, arr)))\n",
        "\n",
        "print(arr2)"
      ],
      "metadata": {
        "colab": {
          "base_uri": "https://localhost:8080/"
        },
        "id": "KeAfeJmrJf2B",
        "outputId": "287d4a0a-3660-40f6-bd1c-298efb57f6aa"
      },
      "execution_count": null,
      "outputs": [
        {
          "output_type": "stream",
          "name": "stdout",
          "text": [
            "[1, 4, 9, 16, 25]\n"
          ]
        }
      ]
    },
    {
      "cell_type": "code",
      "source": [
        "scores = [85, 92, 78, 65, 45]\n",
        "\n",
        "def grade(x):\n",
        "  if x >=80 : return f\"Score is {x} and A+\"\n",
        "  if x >=70 : return f\"Score is {x} and A\"\n",
        "  if x >=60 : return f\"Score is {x} and A-\"\n",
        "  else : return f\"Score is {x} and F-\"\n",
        "\n",
        "grades = list(map(grade,scores))\n",
        "print(grades)"
      ],
      "metadata": {
        "colab": {
          "base_uri": "https://localhost:8080/"
        },
        "id": "NLQ5pDRbKSs2",
        "outputId": "a9fe342a-5134-4880-cabf-dbd6f12a7068"
      },
      "execution_count": null,
      "outputs": [
        {
          "output_type": "stream",
          "name": "stdout",
          "text": [
            "['Score is 85 and A+', 'Score is 92 and A+', 'Score is 78 and A', 'Score is 65 and A-', 'Score is 45 and F-']\n"
          ]
        }
      ]
    },
    {
      "cell_type": "markdown",
      "source": [
        "## Filter\n",
        "\n",
        "filter(function, iterable)"
      ],
      "metadata": {
        "id": "FX9CPanQLI3W"
      }
    },
    {
      "cell_type": "code",
      "source": [
        "scores = [85, 92, 78, 65, 45]\n",
        "\n",
        "select = list(filter(lambda x: x>80 , scores))\n",
        "print(select)"
      ],
      "metadata": {
        "colab": {
          "base_uri": "https://localhost:8080/"
        },
        "id": "rpIOoGTVLHjZ",
        "outputId": "20c031da-767a-49d2-cff9-bb452cd1209b"
      },
      "execution_count": null,
      "outputs": [
        {
          "output_type": "stream",
          "name": "stdout",
          "text": [
            "[85, 92]\n"
          ]
        }
      ]
    },
    {
      "cell_type": "code",
      "source": [
        "# Valid Email Filter\n",
        "emails = [\"user@mail.com\", \"invalid\", \"test@gmail.com\", \"no@\", \"admin@site.org\"]\n",
        "\n",
        "def check(s):\n",
        "  if '@' in s and '.' in s:\n",
        "    return s;\n",
        "\n",
        "\n",
        "# selected = list( filter(lambda e: '@' in e and '.' in e  , emails) )\n",
        "selected = list( filter(check , emails) )\n",
        "print(selected)"
      ],
      "metadata": {
        "colab": {
          "base_uri": "https://localhost:8080/"
        },
        "id": "QoVfP-rNLpL2",
        "outputId": "511c927f-3373-4ad7-fadd-6a934dd3b926"
      },
      "execution_count": null,
      "outputs": [
        {
          "output_type": "stream",
          "name": "stdout",
          "text": [
            "['user@mail.com', 'test@gmail.com', 'admin@site.org']\n"
          ]
        }
      ]
    },
    {
      "cell_type": "markdown",
      "source": [
        "## Reduce"
      ],
      "metadata": {
        "id": "CETYbxXvNGSR"
      }
    },
    {
      "cell_type": "code",
      "source": [
        "from functools import reduce\n",
        "arr = [1,2,3,4,5]\n",
        "\n",
        "sum = reduce(lambda x,y: x+y, arr)\n",
        "print(sum)"
      ],
      "metadata": {
        "colab": {
          "base_uri": "https://localhost:8080/"
        },
        "id": "_uGXwc0xNJS7",
        "outputId": "02c90a3e-a9cd-4c7c-aef5-f4aa60928456"
      },
      "execution_count": null,
      "outputs": [
        {
          "output_type": "stream",
          "name": "stdout",
          "text": [
            "15\n"
          ]
        }
      ]
    },
    {
      "cell_type": "code",
      "source": [
        "from functools import reduce\n",
        "arr = [1,2,3,4,5]\n",
        "\n",
        "sum = reduce(lambda x,y: x*y, arr, 10)\n",
        "print(sum)"
      ],
      "metadata": {
        "colab": {
          "base_uri": "https://localhost:8080/"
        },
        "id": "GNYdIqAiOAog",
        "outputId": "2ca861f7-a0fd-4168-843a-74fe248e42cd"
      },
      "execution_count": null,
      "outputs": [
        {
          "output_type": "stream",
          "name": "stdout",
          "text": [
            "1200\n"
          ]
        }
      ]
    },
    {
      "cell_type": "code",
      "source": [
        "from functools import reduce\n",
        "\n",
        "sentences = [\"I love Python\", \"Machine Learning is fun\", \"AI is the future\"]\n",
        "\n",
        "def count_vowel(text):\n",
        "  sum=0\n",
        "  for ch in text.lower():\n",
        "    if ch in 'aeiou':\n",
        "      sum+=1\n",
        "\n",
        "  return sum\n",
        "\n",
        "total = reduce(lambda x, y: x + count_vowel(y), sentences, 0)\n",
        "print(total)\n"
      ],
      "metadata": {
        "colab": {
          "base_uri": "https://localhost:8080/"
        },
        "id": "xhhFL6m3Ofgc",
        "outputId": "56f65e16-5afd-4e9f-8e1d-653de33616d2"
      },
      "execution_count": null,
      "outputs": [
        {
          "output_type": "stream",
          "name": "stdout",
          "text": [
            "19\n"
          ]
        }
      ]
    },
    {
      "cell_type": "markdown",
      "source": [],
      "metadata": {
        "id": "bUQZwTnaLHr9"
      }
    },
    {
      "cell_type": "markdown",
      "source": [
        "# **Write and Read CSV File**"
      ],
      "metadata": {
        "id": "I_8b9EI96qgH"
      }
    },
    {
      "cell_type": "code",
      "source": [
        "from pathlib import Path\n",
        "import csv\n",
        "\n",
        "Data_Path = Path('data2')\n",
        "Data_Path.mkdir(exist_ok=True)\n",
        "csv_path = Data_Path / \"student.csv\"\n",
        "\n",
        "# Write\n",
        "with csv_path.open('w', newline=\"\",encoding=\"utf-8\") as f:\n",
        "  writer = csv.writer(f)\n",
        "  writer.writerow([\"Name\", \"Age\"])\n",
        "  writer.writerow([\"Rakib\", 20])\n",
        "  writer.writerow([\"Takib\", 40])\n",
        "  writer.writerow([\"Yakib\", 25])\n",
        "\n",
        "# Read\n",
        "with csv_path.open('r',encoding=\"utf-8\") as f:\n",
        "  reader =  csv.reader(f)\n",
        "  print(list(reader))\n"
      ],
      "metadata": {
        "colab": {
          "base_uri": "https://localhost:8080/"
        },
        "id": "l_SaDGd4Qcoj",
        "outputId": "f3936332-bef9-46c7-a0e3-3e5b2988ee61"
      },
      "execution_count": null,
      "outputs": [
        {
          "output_type": "stream",
          "name": "stdout",
          "text": [
            "[['Name', 'Age'], ['Rakib', '20'], ['Takib', '40'], ['Yakib', '25']]\n"
          ]
        }
      ]
    },
    {
      "cell_type": "markdown",
      "source": [
        "# **Error Handling**\n"
      ],
      "metadata": {
        "id": "_GTRRp836tUi"
      }
    },
    {
      "cell_type": "code",
      "source": [
        "def to_int(s):\n",
        "    try:\n",
        "        return int(s)\n",
        "    except ValueError as e:\n",
        "        print(\"ValueError:\", e)\n",
        "        return None\n",
        "\n",
        "print(to_int(\"ABC\"))\n",
        "# print(\"to_int('abc'):\", to_int(\"abc\"))"
      ],
      "metadata": {
        "colab": {
          "base_uri": "https://localhost:8080/"
        },
        "id": "nAtLDa0vTNkZ",
        "outputId": "41b1b78d-dcc8-4ef8-e94e-1496370dc9a2"
      },
      "execution_count": null,
      "outputs": [
        {
          "output_type": "stream",
          "name": "stdout",
          "text": [
            "ValueError: invalid literal for int() with base 10: 'ABC'\n",
            "None\n"
          ]
        }
      ]
    },
    {
      "cell_type": "code",
      "source": [
        "# --- DEMO: raising custom errors ---\n",
        "def require_positive(n):\n",
        "    if n <= 0:\n",
        "        raise ValueError(\"n must be > 0\")\n",
        "    return n\n",
        "\n",
        "def dividedbyn(n):\n",
        "  if n==0:\n",
        "    raise ZeroDivisionError(\"0 diye vag kora jabe nah\")\n",
        "  return 100/n;\n",
        "\n",
        "try:\n",
        "    # print(require_positive(-1))\n",
        "    print(dividedbyn(0))\n",
        "except ZeroDivisionError as e:\n",
        "    print(e)\n",
        "except ValueError as e:\n",
        "    print(\"Caught:\", e)"
      ],
      "metadata": {
        "colab": {
          "base_uri": "https://localhost:8080/"
        },
        "id": "GtTMmnvTTnyY",
        "outputId": "c0664cf6-dfb9-45c4-d1dc-6b90cbbde7c7"
      },
      "execution_count": null,
      "outputs": [
        {
          "output_type": "stream",
          "name": "stdout",
          "text": [
            "0 diye vag kora jabe nah\n"
          ]
        }
      ]
    },
    {
      "cell_type": "code",
      "source": [],
      "metadata": {
        "id": "70NvdZ7NUwiJ"
      },
      "execution_count": null,
      "outputs": []
    }
  ]
}