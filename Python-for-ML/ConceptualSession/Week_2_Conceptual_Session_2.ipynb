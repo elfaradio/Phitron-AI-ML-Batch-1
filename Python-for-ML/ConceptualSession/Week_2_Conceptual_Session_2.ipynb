{
  "cells": [
    {
      "cell_type": "markdown",
      "metadata": {
        "id": "4fW7-bmaJ7mV"
      },
      "source": [
        "# **Class, object and instance**"
      ]
    },
    {
      "cell_type": "code",
      "execution_count": null,
      "metadata": {
        "colab": {
          "base_uri": "https://localhost:8080/"
        },
        "id": "-AgmEX32MBC1",
        "outputId": "d5d7c5cf-9fc1-454f-d10b-26a2a200929e"
      },
      "outputs": [
        {
          "data": {
            "text/plain": [
              "['__class__',\n",
              " '__delattr__',\n",
              " '__dict__',\n",
              " '__dir__',\n",
              " '__doc__',\n",
              " '__eq__',\n",
              " '__format__',\n",
              " '__ge__',\n",
              " '__getattribute__',\n",
              " '__getstate__',\n",
              " '__gt__',\n",
              " '__hash__',\n",
              " '__init__',\n",
              " '__init_subclass__',\n",
              " '__le__',\n",
              " '__lt__',\n",
              " '__module__',\n",
              " '__ne__',\n",
              " '__new__',\n",
              " '__reduce__',\n",
              " '__reduce_ex__',\n",
              " '__repr__',\n",
              " '__setattr__',\n",
              " '__sizeof__',\n",
              " '__str__',\n",
              " '__subclasshook__',\n",
              " '__weakref__']"
            ]
          },
          "execution_count": 2,
          "metadata": {},
          "output_type": "execute_result"
        }
      ],
      "source": [
        "class Dog():\n",
        "    pass\n",
        "\n",
        "\n",
        "dog1 = Dog()\n",
        "\n",
        "dir(dog1)"
      ]
    },
    {
      "cell_type": "code",
      "execution_count": null,
      "metadata": {
        "colab": {
          "base_uri": "https://localhost:8080/"
        },
        "id": "ZI8DipxeNiU2",
        "outputId": "457aaa07-c10f-486a-cbde-6c628d19eca7"
      },
      "outputs": [
        {
          "name": "stdout",
          "output_type": "stream",
          "text": [
            "ABC\n",
            "20\n"
          ]
        }
      ],
      "source": [
        "class Dog():\n",
        "    pass\n",
        "\n",
        "\n",
        "dog1 = Dog()\n",
        "dog1.name = \"ABC\"\n",
        "dog1.age = 20\n",
        "print(dog1.name)\n",
        "print(dog1.age)"
      ]
    },
    {
      "cell_type": "code",
      "execution_count": null,
      "metadata": {
        "colab": {
          "base_uri": "https://localhost:8080/"
        },
        "id": "eZRKkaaMSaFE",
        "outputId": "591bdf2e-200e-410b-a1aa-1367421c9022"
      },
      "outputs": [
        {
          "name": "stdout",
          "output_type": "stream",
          "text": [
            "hello constructor\n"
          ]
        }
      ],
      "source": [
        "class Dog():\n",
        "    # constructor\n",
        "    def __init__(self):\n",
        "        print(\"hello constructor\")\n",
        "\n",
        "    def speak():\n",
        "        print(\"Dog speaking\")\n",
        "\n",
        "\n",
        "dog1 = Dog()"
      ]
    },
    {
      "cell_type": "code",
      "execution_count": null,
      "metadata": {
        "colab": {
          "base_uri": "https://localhost:8080/"
        },
        "id": "iuK7JLvKNxUl",
        "outputId": "f8d47132-0394-4058-9a14-f458c5a5a423"
      },
      "outputs": [
        {
          "name": "stdout",
          "output_type": "stream",
          "text": [
            "<__main__.Dog object at 0x7c84875764b0>\n",
            "<__main__.Dog object at 0x7c84875ddca0>\n"
          ]
        }
      ],
      "source": [
        "class Dog():\n",
        "    # constructor\n",
        "    def __init__(self, name, age):\n",
        "        self.name = name  # instance attribute\n",
        "        self.age = age  # instance attribute\n",
        "\n",
        "    def speak():\n",
        "        print(\"Dog speaking\")\n",
        "\n",
        "\n",
        "dog1 = Dog('ABC', 20)\n",
        "# print(dog1.name, dog1.age)\n",
        "dog2 = Dog('ABC2', 40)\n",
        "# print(dog2.name, dog2.age)\n",
        "\n",
        "print(dog1)\n",
        "print(dog2)"
      ]
    },
    {
      "cell_type": "code",
      "execution_count": null,
      "metadata": {
        "colab": {
          "base_uri": "https://localhost:8080/"
        },
        "id": "T-8zfpTOPNjB",
        "outputId": "888b1750-9093-4ce4-8014-e3ae4c384179"
      },
      "outputs": [
        {
          "name": "stdout",
          "output_type": "stream",
          "text": [
            "asdfsadf\n",
            "asdfsadf\n"
          ]
        }
      ],
      "source": [
        "class Dog():\n",
        "    food = \"asdfsadf\"  # class attribute\n",
        "    # constructor\n",
        "\n",
        "    def __init__(self, name, age):\n",
        "        self.name = name  # instance attribute\n",
        "        self.age = age  # instance attribute\n",
        "\n",
        "    def speak():\n",
        "        print(\"Dog speaking\")\n",
        "\n",
        "\n",
        "dog1 = Dog('ABC', 20)\n",
        "dog2 = Dog('ABC', 40)\n",
        "\n",
        "print(dog1.food)\n",
        "print(dog2.food)"
      ]
    },
    {
      "cell_type": "code",
      "execution_count": 4,
      "metadata": {
        "colab": {
          "base_uri": "https://localhost:8080/",
          "height": 297
        },
        "id": "kM-exuvDP0GN",
        "outputId": "59799d08-baac-43b3-f52f-719ac4aee82b"
      },
      "outputs": [],
      "source": [
        "class Dog():\n",
        "    food = \"asdfsadf\"  # class attribute\n",
        "\n",
        "    def __init__(self, name, age):\n",
        "        self.name = name  # instance attribute\n",
        "        self.age = age  # instance attribute\n",
        "\n",
        "    def speak(self):\n",
        "        print(\"Dog speaking\", {self.name}, {self.food})\n",
        "\n",
        "    # instance method\n",
        "    def work(self):\n",
        "        print(\"hello , dog \", {self.name}, {self.food})\n",
        " # A @classmethod in Python is a method that belongs to the class itself, not to a specific object (instance) of that class.\n",
        "# It can access and modify class-level data (shared by all instances), but not instance-specific data (since it doesnt have access to self).'''\n",
        "\n",
        "    @classmethod\n",
        "    def info(cls):\n",
        "        print(\"Food \", cls.age)\n",
        "\n",
        "\n",
        "dog1 = Dog('ABC', 20)\n",
        "\n",
        "# dog1.info()"
      ]
    },
    {
      "cell_type": "markdown",
      "metadata": {
        "id": "74ZDALJuJ95H"
      },
      "source": [
        "# **Inheritance**"
      ]
    },
    {
      "cell_type": "code",
      "execution_count": null,
      "metadata": {
        "id": "0_SliXUlSoPP"
      },
      "outputs": [],
      "source": [
        "# Inherit (single inheritance)\n",
        "# Parent Class / Base class / Super class\n",
        "class Car:\n",
        "    def __init__(self, windows, door, enginetype) -> None:\n",
        "        self.windows = windows\n",
        "        self.door = door\n",
        "        self.enginetype = enginetype\n",
        "\n",
        "    def drive(self):\n",
        "        print(f\"The person will drive the {self.enginetype} card\")"
      ]
    },
    {
      "cell_type": "code",
      "execution_count": null,
      "metadata": {
        "colab": {
          "base_uri": "https://localhost:8080/"
        },
        "id": "kNf-1hMSS04S",
        "outputId": "073cfb87-4982-4322-a72a-ce79c21f2c3a"
      },
      "outputs": [
        {
          "name": "stdout",
          "output_type": "stream",
          "text": [
            "4\n"
          ]
        }
      ],
      "source": [
        "# Derived / Child / subclass\n",
        "class Tesla(Car):\n",
        "    def __init__(self, windows, door, enginetype, is_selfDriving):\n",
        "        super().__init__(windows, door, enginetype)\n",
        "        self.is_selfDriving = is_selfDriving\n",
        "\n",
        "\n",
        "tesla1 = Tesla(4, 4, \"AB\", True)\n",
        "print(tesla1.windows)"
      ]
    },
    {
      "cell_type": "code",
      "execution_count": null,
      "metadata": {
        "colab": {
          "base_uri": "https://localhost:8080/"
        },
        "id": "FdTZhXb_UG5d",
        "outputId": "495b2636-4099-4a78-8c0d-616b6e47fa49"
      },
      "outputs": [
        {
          "data": {
            "text/plain": [
              "['__class__',\n",
              " '__delattr__',\n",
              " '__dict__',\n",
              " '__dir__',\n",
              " '__doc__',\n",
              " '__eq__',\n",
              " '__format__',\n",
              " '__ge__',\n",
              " '__getattribute__',\n",
              " '__getstate__',\n",
              " '__gt__',\n",
              " '__hash__',\n",
              " '__init__',\n",
              " '__init_subclass__',\n",
              " '__le__',\n",
              " '__lt__',\n",
              " '__module__',\n",
              " '__ne__',\n",
              " '__new__',\n",
              " '__reduce__',\n",
              " '__reduce_ex__',\n",
              " '__repr__',\n",
              " '__setattr__',\n",
              " '__sizeof__',\n",
              " '__str__',\n",
              " '__subclasshook__',\n",
              " '__weakref__',\n",
              " 'eat',\n",
              " 'name',\n",
              " 'owner']"
            ]
          },
          "execution_count": 40,
          "metadata": {},
          "output_type": "execute_result"
        }
      ],
      "source": [
        "# Multiple Inheritance\n",
        "# When a class inherits from more than one base class\n",
        "\n",
        "# Base class 1\n",
        "class Animal:\n",
        "    def __init__(self, name) -> None:\n",
        "        self.name = name\n",
        "\n",
        "    def eat(self):\n",
        "        print(f\"{self.name} is eating from Animal Base Class\")\n",
        "\n",
        "# Base class 2\n",
        "\n",
        "\n",
        "class Pet:\n",
        "    def __init__(self, owner) -> None:\n",
        "        self.owner = owner\n",
        "\n",
        "\n",
        "# Derive class\n",
        "class Dog(Animal, Pet):\n",
        "    def __init__(self, name, owner) -> None:\n",
        "        Animal.__init__(self, name)\n",
        "        Pet.__init__(self, owner)\n",
        "\n",
        "\n",
        "dog1 = Dog(\"ABC\", \"DEF\")\n",
        "dir(dog1)"
      ]
    },
    {
      "cell_type": "markdown",
      "metadata": {
        "id": "ArzDleqAKT_k"
      },
      "source": [
        "# **Polymorphism**"
      ]
    },
    {
      "cell_type": "code",
      "execution_count": null,
      "metadata": {
        "colab": {
          "base_uri": "https://localhost:8080/"
        },
        "id": "frts9wqjVt-A",
        "outputId": "637f208f-ec89-4625-bad3-da5ffd90c7a8"
      },
      "outputs": [
        {
          "name": "stdout",
          "output_type": "stream",
          "text": [
            "Meow!\n"
          ]
        },
        {
          "data": {
            "text/plain": [
              "['__class__',\n",
              " '__delattr__',\n",
              " '__dict__',\n",
              " '__dir__',\n",
              " '__doc__',\n",
              " '__eq__',\n",
              " '__format__',\n",
              " '__ge__',\n",
              " '__getattribute__',\n",
              " '__getstate__',\n",
              " '__gt__',\n",
              " '__hash__',\n",
              " '__init__',\n",
              " '__init_subclass__',\n",
              " '__le__',\n",
              " '__lt__',\n",
              " '__module__',\n",
              " '__ne__',\n",
              " '__new__',\n",
              " '__reduce__',\n",
              " '__reduce_ex__',\n",
              " '__repr__',\n",
              " '__setattr__',\n",
              " '__sizeof__',\n",
              " '__str__',\n",
              " '__subclasshook__',\n",
              " '__weakref__',\n",
              " 'speak']"
            ]
          },
          "execution_count": 46,
          "metadata": {},
          "output_type": "execute_result"
        }
      ],
      "source": [
        "# Base Class\n",
        "class Animal:\n",
        "    def speak(self):\n",
        "        return \"Sound of the animal\"\n",
        "\n",
        "# Derived Class 1\n",
        "\n",
        "\n",
        "class Dog(Animal):\n",
        "    def speak(self):\n",
        "        return \"Woof!\"\n",
        "\n",
        "# Derived class 2\n",
        "\n",
        "\n",
        "class Cat(Animal):\n",
        "    def speak(self):\n",
        "        return \"Meow!\"\n",
        "\n",
        "\n",
        "cat1 = Cat()\n",
        "print(cat1.speak())\n",
        "dir(cat1)"
      ]
    },
    {
      "cell_type": "markdown",
      "metadata": {
        "id": "npl1eUEiKZC-"
      },
      "source": [
        "# **Encapsulation**"
      ]
    },
    {
      "cell_type": "code",
      "execution_count": null,
      "metadata": {
        "colab": {
          "base_uri": "https://localhost:8080/",
          "height": 52
        },
        "id": "zL_oyWRvXJic",
        "outputId": "a4cbfb65-0a04-4991-b650-5a1250b95bd6"
      },
      "outputs": [
        {
          "name": "stdout",
          "output_type": "stream",
          "text": [
            "10000\n"
          ]
        },
        {
          "data": {
            "application/vnd.google.colaboratory.intrinsic+json": {
              "type": "string"
            },
            "text/plain": [
              "'Rakib'"
            ]
          },
          "execution_count": 48,
          "metadata": {},
          "output_type": "execute_result"
        }
      ],
      "source": [
        "# Encapsulation  with Getter and Setter MEthods\n",
        "# Public,protected,private variables or access modifiers\n",
        "\n",
        "class Person:\n",
        "    def __init__(self, name, age, balance):\n",
        "        self.name = name  # public variables\n",
        "        self.age = age  # public variables\n",
        "        self.balance = balance\n",
        "\n",
        "\n",
        "def get_name(person):\n",
        "    return person.name\n",
        "\n",
        "\n",
        "person1 = Person(\"Rakib\", 20, 10000)\n",
        "print(person1.balance)\n",
        "\n",
        "person1.name"
      ]
    },
    {
      "cell_type": "code",
      "execution_count": 1,
      "metadata": {
        "colab": {
          "base_uri": "https://localhost:8080/"
        },
        "id": "t14RMjYFX330",
        "outputId": "db18fdc7-b780-4da0-c917-cc744adb528a"
      },
      "outputs": [
        {
          "name": "stdout",
          "output_type": "stream",
          "text": [
            "Rakib\n",
            "10500\n"
          ]
        }
      ],
      "source": [
        "# Getter and Setter MEthods\n",
        "class Person:\n",
        "    def __init__(self, name, age, balance):\n",
        "        self.name = name  # public variables\n",
        "        self._age = age  # protected variables -> Child class access\n",
        "        self.__balance = balance  # private -> only nijer class\n",
        "\n",
        "    def info(self):\n",
        "        print(\"Balance \", self.__balance)\n",
        "\n",
        "    def get_balance(self):\n",
        "        return self.__balance\n",
        "\n",
        "    def set_balance(self, money):\n",
        "        self.__balance += money\n",
        "\n",
        "# bayrer method\n",
        "\n",
        "\n",
        "def get_name(person):\n",
        "    return person.name\n",
        "\n",
        "\n",
        "person1 = Person(\"Rakib\", 20, 10000)\n",
        "person1.set_balance(500)\n",
        "print(person1.name)\n",
        "print(person1.get_balance())"
      ]
    },
    {
      "cell_type": "markdown",
      "metadata": {
        "id": "QwiRyUD0KZuV"
      },
      "source": [
        "# **Abstraction**"
      ]
    },
    {
      "cell_type": "code",
      "execution_count": null,
      "metadata": {
        "colab": {
          "base_uri": "https://localhost:8080/",
          "height": 193
        },
        "id": "RbU6tiUxaiUT",
        "outputId": "c409e352-37e1-4542-b0f4-2ae956fc6095"
      },
      "outputs": [
        {
          "name": "stdout",
          "output_type": "stream",
          "text": [
            "This is car\n",
            "Starting car engine\n",
            "AC is started\n"
          ]
        }
      ],
      "source": [
        "from abc import ABC, abstractmethod\n",
        "\n",
        "# Abstract base cclass\n",
        "\n",
        "\n",
        "class Vehicle(ABC):\n",
        "    def drive(self):\n",
        "        print(\"The vehicle is used for driving\")\n",
        "\n",
        "    @abstractmethod\n",
        "    def run(self):\n",
        "        print(\"Farhad\")\n",
        "\n",
        "\n",
        "class Car(Vehicle):\n",
        "    def info(self):\n",
        "        print(\"This is car\")\n",
        "\n",
        "    def start(self):\n",
        "        print(\"Starting car engine\")\n",
        "\n",
        "    def ac(self):\n",
        "        print(\"AC is started\")\n",
        "\n",
        "    def run(self):\n",
        "        self.info()\n",
        "        self.start()\n",
        "        self.ac()\n",
        "\n",
        "\n",
        "car1 = Car()\n",
        "car1.run()  # Run swich"
      ]
    },
    {
      "cell_type": "markdown",
      "metadata": {
        "id": "_TCoBq5cKyLk"
      },
      "source": [
        "# **Mini Project**"
      ]
    },
    {
      "cell_type": "code",
      "execution_count": null,
      "metadata": {
        "colab": {
          "base_uri": "https://localhost:8080/"
        },
        "id": "5HXh9JWdjcUQ",
        "outputId": "c6314bf7-a371-4c82-b132-e73315b0b525"
      },
      "outputs": [
        {
          "name": "stdout",
          "output_type": "stream",
          "text": [
            "100\n",
            "Interest rate is : 2.0\n",
            "ATM Transaction: Cash Withdraw or Balance Check\n"
          ]
        }
      ],
      "source": [
        "from abc import ABC, abstractmethod\n",
        "\n",
        "# Abstraction\n",
        "\n",
        "\n",
        "class BankService(ABC):\n",
        "    @abstractmethod\n",
        "    def transaction(self):\n",
        "        pass\n",
        "\n",
        "\n",
        "class Account:\n",
        "    bank_name = \"Phitron Bank\"\n",
        "\n",
        "    def __init__(self, name, account_no, balance):\n",
        "        self.name = name\n",
        "        self.account_no = account_no\n",
        "        self.__balance = balance  # Private Attribute\n",
        "\n",
        "    def get_balance(self):\n",
        "        return self.__balance\n",
        "\n",
        "    def deposite(self, money):\n",
        "        self.__balance += money\n",
        "        return f\"{money} is added, New Balance is: {self.__balance}\"\n",
        "\n",
        "    def withdraw(self, withdrawMoney):\n",
        "\n",
        "        if withdrawMoney > self.__balance:\n",
        "            return f\"Insufficient Balance\"\n",
        "        self.__balance -= withdrawMoney\n",
        "\n",
        "        return f\"{withdrawMoney} is Withdrawed, New Balance is: {self.__balance}\"\n",
        "\n",
        "\n",
        "class SavingAccount(Account):\n",
        "    def __init__(self, name, account_no, balance, interest_rate):\n",
        "        super().__init__(name, account_no, balance)\n",
        "        self.interest_rate = interest_rate\n",
        "\n",
        "    def calculate_interest_rate(self):\n",
        "        interest = self.get_balance() * self.interest_rate / 100\n",
        "        return f\"Interest rate is : {interest}\"\n",
        "\n",
        "\n",
        "class CurrentAccount(Account):\n",
        "    def __init__(self, name, account_no, balance, overlimit):\n",
        "        super().__init__(name, account_no, balance)\n",
        "        self.overlimit = overlimit\n",
        "\n",
        "    def withdraw(self, withdrawMoney):\n",
        "        if withdrawMoney > self.get_balance() + self.overlimit:\n",
        "            return f\"Insufficient Balance\"\n",
        "\n",
        "        balance = self.get_balance() - withdrawMoney\n",
        "\n",
        "        return f\"{withdrawMoney} is withdrawed , new balance is {balance}\"\n",
        "\n",
        "\n",
        "class ATM(BankService):\n",
        "    def transaction(self):\n",
        "        print(\"ATM Transaction: Cash Withdraw or Balance Check\")\n",
        "\n",
        "\n",
        "currentUser = CurrentAccount(\"Rakib\", 123, 1000, 5000)\n",
        "# print(currentUser.get_balance())\n",
        "# print(currentUser.withdraw(3000))\n",
        "\n",
        "savingUSer = SavingAccount(\"Takib\", 133, 100, 2)\n",
        "print(savingUSer.get_balance())\n",
        "print(savingUSer.calculate_interest_rate())\n",
        "\n",
        "atm = ATM()\n",
        "atm.transaction()"
      ]
    }
  ],
  "metadata": {
    "colab": {
      "provenance": [],
      "toc_visible": true
    },
    "kernelspec": {
      "display_name": "venv",
      "language": "python",
      "name": "python3"
    },
    "language_info": {
      "codemirror_mode": {
        "name": "ipython",
        "version": 3
      },
      "file_extension": ".py",
      "mimetype": "text/x-python",
      "name": "python",
      "nbconvert_exporter": "python",
      "pygments_lexer": "ipython3",
      "version": "3.13.7"
    }
  },
  "nbformat": 4,
  "nbformat_minor": 0
}
